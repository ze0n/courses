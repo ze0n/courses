{
 "cells": [
  {
   "cell_type": "markdown",
   "metadata": {},
   "source": [
    "# CSharp"
   ]
  },
  {
   "cell_type": "code",
   "execution_count": 1,
   "metadata": {},
   "outputs": [
    {
     "name": "stdout",
     "output_type": "stream",
     "text": [
      "C:\\Workspace\\playground\\PythonPresentation\\ipython\\cs\n"
     ]
    }
   ],
   "source": [
    "%cd cs"
   ]
  },
  {
   "cell_type": "code",
   "execution_count": 2,
   "metadata": {},
   "outputs": [
    {
     "name": "stdout",
     "output_type": "stream",
     "text": [
      "Getting ready...\n",
      "The template \"Console Application\" was created successfully.\n",
      "\n",
      "Processing post-creation actions...\n",
      "Running 'dotnet restore' on C:\\Workspace\\playground\\PythonPresentation\\ipython\\cs\\cs.csproj...\n",
      "  Restoring packages for C:\\Workspace\\playground\\PythonPresentation\\ipython\\cs\\cs.csproj...\n",
      "  Generating MSBuild file C:\\Workspace\\playground\\PythonPresentation\\ipython\\cs\\obj\\cs.csproj.nuget.g.props.\n",
      "  Restore completed in 604.7 ms for C:\\Workspace\\playground\\PythonPresentation\\ipython\\cs\\cs.csproj.\n",
      "\n",
      "Restore succeeded.\n",
      "\n"
     ]
    }
   ],
   "source": [
    "!dotnet new console --force"
   ]
  },
  {
   "cell_type": "code",
   "execution_count": 3,
   "metadata": {},
   "outputs": [
    {
     "name": "stdout",
     "output_type": "stream",
     "text": [
      "  Writing C:\\Users\\kkn\\AppData\\Local\\Temp\\tmp22FC.tmp\n",
      "info : Adding PackageReference for package 'MathNet.Numerics' into project 'C:\\Workspace\\playground\\PythonPresentation\\ipython\\cs\\cs.csproj'.\n",
      "log  : Restoring packages for C:\\Workspace\\playground\\PythonPresentation\\ipython\\cs\\cs.csproj...\n",
      "info : Package 'MathNet.Numerics' is compatible with all the specified frameworks in project 'C:\\Workspace\\playground\\PythonPresentation\\ipython\\cs\\cs.csproj'.\n",
      "info : PackageReference for package 'MathNet.Numerics' version '4.4.0' added to file 'C:\\Workspace\\playground\\PythonPresentation\\ipython\\cs\\cs.csproj'.\n",
      "info : Committing restore...\n",
      "info : Writing lock file to disk. Path: C:\\Workspace\\playground\\PythonPresentation\\ipython\\cs\\obj\\project.assets.json\n",
      "log  : Restore completed in 511.57 ms for C:\\Workspace\\playground\\PythonPresentation\\ipython\\cs\\cs.csproj.\n"
     ]
    }
   ],
   "source": [
    "!dotnet add package MathNet.Numerics -v 4.4.0 -s https://api.nuget.org/v3/index.json"
   ]
  },
  {
   "cell_type": "code",
   "execution_count": 10,
   "metadata": {},
   "outputs": [
    {
     "name": "stdout",
     "output_type": "stream",
     "text": [
      "Overwriting Program.cs\n"
     ]
    }
   ],
   "source": [
    "%%file Program.cs\n",
    "using System;\n",
    "using System.Diagnostics;\n",
    "using System.Threading;\n",
    "using MathNet.Numerics.LinearAlgebra;\n",
    "using MathNet.Numerics.LinearAlgebra.Double;\n",
    "\n",
    "public class Program {\n",
    "    public static void Main(string [] argv){\n",
    "\n",
    "        int repeats = 10;\n",
    "        double S=0.0;\n",
    "        \n",
    "        Stopwatch stopWatch = new Stopwatch();\n",
    "        stopWatch.Start();\n",
    "        for(int i=0;i<repeats;i++){\n",
    "\n",
    "            int N = 1000;\n",
    "\n",
    "            // build the same as above\n",
    "            // Matrix<double> A = Matrix<double>.Build.Random(N, N);\n",
    "            // Matrix<double> B = Matrix<double>.Build.Random(N, N);\n",
    "\n",
    "            Matrix<double> A = Matrix<double>.Build.Dense(N, N, 2.0);\n",
    "            Matrix<double> B = Matrix<double>.Build.Dense(N, N, 3.0);\n",
    "            Matrix<double> C = A * B;\n",
    "            S = C.RowSums().Sum();        \n",
    "        }\n",
    "        stopWatch.Stop();\n",
    "        TimeSpan ts = stopWatch.Elapsed;\n",
    "        ts = ts/repeats;\n",
    "            \n",
    "        string elapsedTime = String.Format(\"{0:00}:{1:00}:{2:00}.{3:00}\",\n",
    "            ts.Hours, ts.Minutes, ts.Seconds,\n",
    "            ts.Milliseconds / 10);\n",
    "        Console.WriteLine($\"RunTime {elapsedTime}, result {S}\");    \n",
    "    }\n",
    "}"
   ]
  },
  {
   "cell_type": "code",
   "execution_count": 11,
   "metadata": {},
   "outputs": [
    {
     "name": "stdout",
     "output_type": "stream",
     "text": [
      "Microsoft (R) Build Engine version 15.9.20+g88f5fadfbe for .NET Core\n",
      "Copyright (C) Microsoft Corporation. All rights reserved.\n",
      "\n",
      "  Restore completed in 117.97 ms for C:\\Workspace\\playground\\PythonPresentation\\ipython\\cs\\cs.csproj.\n",
      "  cs -> C:\\Workspace\\playground\\PythonPresentation\\ipython\\cs\\bin\\Debug\\netcoreapp2.1\\cs.dll\n",
      "\n",
      "Build succeeded.\n",
      "    0 Warning(s)\n",
      "    0 Error(s)\n",
      "\n",
      "Time Elapsed 00:00:04.34\n",
      "Microsoft (R) Build Engine version 15.9.20+g88f5fadfbe for .NET Core\n",
      "Copyright (C) Microsoft Corporation. All rights reserved.\n",
      "\n",
      "  Restore completed in 122.55 ms for C:\\Workspace\\playground\\PythonPresentation\\ipython\\cs\\cs.csproj.\n",
      "  cs -> C:\\Workspace\\playground\\PythonPresentation\\ipython\\cs\\bin\\Debug\\netcoreapp2.1\\cs.dll\n",
      "  cs -> C:\\Workspace\\playground\\PythonPresentation\\ipython\\cs\\bin\\Debug\\netcoreapp2.1\\publish\\\n"
     ]
    }
   ],
   "source": [
    "!dotnet build cs.csproj\n",
    "!dotnet publish"
   ]
  },
  {
   "cell_type": "code",
   "execution_count": 12,
   "metadata": {},
   "outputs": [
    {
     "name": "stdout",
     "output_type": "stream",
     "text": [
      "RunTime 00:00:01.17, result 6000000000\n",
      "15.5 s ± 0 ns per loop (mean ± std. dev. of 1 run, 1 loop each)\n"
     ]
    }
   ],
   "source": [
    "%%timeit -n1 -r1\n",
    "!dotnet run"
   ]
  },
  {
   "cell_type": "markdown",
   "metadata": {},
   "source": [
    "Divide result by 'repeats'"
   ]
  },
  {
   "cell_type": "markdown",
   "metadata": {},
   "source": [
    "# Python"
   ]
  },
  {
   "cell_type": "code",
   "execution_count": 13,
   "metadata": {},
   "outputs": [],
   "source": [
    "import numpy as np\n",
    "def pyMatMul():\n",
    "    N = 1000\n",
    "    #A = np.random.rand(N,N)\n",
    "    #B = np.random.rand(N,N)\n",
    "    A = np.full((N, N), 2.0)\n",
    "    B = np.full((N, N), 3.0)\n",
    "    M = np.matmul(A,B)\n",
    "    print(M.sum())"
   ]
  },
  {
   "cell_type": "code",
   "execution_count": 14,
   "metadata": {},
   "outputs": [
    {
     "name": "stdout",
     "output_type": "stream",
     "text": [
      "6000000000.0\n",
      "6000000000.0\n",
      "6000000000.0\n",
      "6000000000.0\n",
      "6000000000.0\n",
      "6000000000.0\n",
      "6000000000.0\n",
      "6000000000.0\n",
      "6000000000.0\n",
      "6000000000.0\n",
      "The slowest run took 4.17 times longer than the fastest. This could mean that an intermediate result is being cached.\n",
      "115 ms ± 61.5 ms per loop (mean ± std. dev. of 10 runs, 1 loop each)\n"
     ]
    }
   ],
   "source": [
    "%%timeit -n1 -r10\n",
    "pyMatMul()"
   ]
  },
  {
   "cell_type": "code",
   "execution_count": null,
   "metadata": {
    "collapsed": true
   },
   "outputs": [],
   "source": []
  }
 ],
 "metadata": {
  "kernelspec": {
   "display_name": "Python 3",
   "language": "python",
   "name": "python3"
  },
  "language_info": {
   "codemirror_mode": {
    "name": "ipython",
    "version": 3
   },
   "file_extension": ".py",
   "mimetype": "text/x-python",
   "name": "python",
   "nbconvert_exporter": "python",
   "pygments_lexer": "ipython3",
   "version": "3.6.7"
  }
 },
 "nbformat": 4,
 "nbformat_minor": 2
}
